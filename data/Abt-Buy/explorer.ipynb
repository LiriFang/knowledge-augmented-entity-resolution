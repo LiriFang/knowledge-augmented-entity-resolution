{
 "cells": [
  {
   "cell_type": "code",
   "execution_count": 1,
   "metadata": {},
   "outputs": [],
   "source": [
    "import pandas as pd\n",
    "import numpy as np\n",
    "\n",
    "import pickle\n",
    "\n",
    "from tqdm import tqdm\n",
    "\n",
    "from refined.processor import Refined"
   ]
  },
  {
   "cell_type": "code",
   "execution_count": null,
   "metadata": {},
   "outputs": [],
   "source": []
  },
  {
   "cell_type": "code",
   "execution_count": 9,
   "metadata": {},
   "outputs": [
    {
     "name": "stdout",
     "output_type": "stream",
     "text": [
      "model {'s3_bucket': 'refined.public', 's3_key': '2022_aug/wikipedia_model/model.pt', 'local_filename': 'wikipedia_model/model.pt'}\n",
      "model_config {'s3_bucket': 'refined.public', 's3_key': '2022_aug/wikipedia_model/config.json', 'local_filename': 'wikipedia_model/config.json'}\n",
      "model_description_embeddings_wikidata {'s3_bucket': 'refined.public', 's3_key': '2022_aug/wikipedia_model/precomputed_entity_descriptions_emb_wikidata_33831487-300.np', 'local_filename': 'wikipedia_model/precomputed_entity_descriptions_emb_wikidata_33831487-300.np'}\n",
      "model_description_embeddings_wikipedia {'s3_bucket': 'refined.public', 's3_key': '2022_aug/wikipedia_model/precomputed_entity_descriptions_emb_wikipedia_6269457-300.np', 'local_filename': 'wikipedia_model/precomputed_entity_descriptions_emb_wikipedia_6269457-300.np'}\n",
      "wiki_pem {'s3_bucket': 'refined.public', 's3_key': '2022_aug/wikipedia_data/wiki_pem.json', 'local_filename': 'wikipedia_data/wiki_pem.json'}\n",
      "class_to_label {'s3_bucket': 'refined.public', 's3_key': '2022_aug/wikipedia_data/class_to_label.json', 'local_filename': 'wikipedia_data/class_to_label.json'}\n",
      "human_qcodes {'s3_bucket': 'refined.public', 's3_key': '2022_aug/wikipedia_data/human_qcodes.json', 'local_filename': 'wikipedia_data/human_qcodes.json'}\n",
      "class_to_idx {'s3_bucket': 'refined.public', 's3_key': '2022_aug/wikipedia_data/class_to_idx.json', 'local_filename': 'wikipedia_data/class_to_idx.json'}\n",
      "qcode_to_idx {'s3_bucket': 'refined.public', 's3_key': '2022_aug/wikipedia_data/qcode_to_idx.json', 'local_filename': 'wikipedia_data/qcode_to_idx.json'}\n",
      "qcode_idx_to_class_idx {'s3_bucket': 'refined.public', 's3_key': '2022_aug/wikipedia_data/qcode_to_class_tns_6269457-138.np', 'local_filename': 'wikipedia_data/qcode_to_class_tns_6269457-138.np'}\n",
      "subclasses {'s3_bucket': 'refined.public', 's3_key': '2022_aug/wikipedia_data/subclass_p279.json', 'local_filename': 'wikipedia_data/subclass_p279.json'}\n",
      "disambiguation_qcodes {'s3_bucket': 'refined.public', 's3_key': '2022_aug/wikipedia_data/disambiguation_qcodes.txt', 'local_filename': 'wikipedia_data/disambiguation_qcodes.txt'}\n",
      "redirects {'s3_bucket': 'refined.public', 's3_key': '2022_aug/wikipedia_data/redirects.json', 'local_filename': 'wikipedia_data/redirects.json'}\n",
      "qcode_to_label {'s3_bucket': 'refined.public', 's3_key': '2022_aug/wikipedia_data/qcode_to_label.json', 'local_filename': 'wikipedia_data/qcode_to_label.json'}\n",
      "wiki_to_qcode {'s3_bucket': 'refined.public', 's3_key': '2022_aug/wikipedia_data/enwiki.json', 'local_filename': 'wikipedia_data/enwiki.json'}\n",
      "21:54:15 - doc_preprocessing.doc_preprocessor - INFO - Loading resources\n",
      "Loading qcode_idx_to_class_idx\n",
      "Loaded qcode_idx_to_class_idx\n"
     ]
    },
    {
     "data": {
      "application/vnd.jupyter.widget-view+json": {
       "model_id": "ee5bf8f0c49f44379be85fb8a2918b6a",
       "version_major": 2,
       "version_minor": 0
      },
      "text/plain": [
       "Loading PEM:   0%|          | 0/18000000.0 [00:00<?, ?it/s]"
      ]
     },
     "metadata": {},
     "output_type": "display_data"
    },
    {
     "name": "stdout",
     "output_type": "stream",
     "text": [
      "22:00:57 - utilities.lookup_utils - INFO - Loading enwiki sitelinks\n"
     ]
    },
    {
     "data": {
      "application/vnd.jupyter.widget-view+json": {
       "model_id": "8fc15591343b4003b470948c9bbfccdc",
       "version_major": 2,
       "version_minor": 0
      },
      "text/plain": [
       "Loading enwiki sitelinks:   0%|          | 0/8000000.0 [00:00<?, ?it/s]"
      ]
     },
     "metadata": {},
     "output_type": "display_data"
    },
    {
     "name": "stdout",
     "output_type": "stream",
     "text": [
      "22:01:25 - utilities.lookup_utils - INFO - Loaded enwiki_to_qcode, size = 8532272\n",
      "temp\n",
      "22:01:27 - utilities.lookup_utils - INFO - Loading subclasses\n"
     ]
    },
    {
     "data": {
      "application/vnd.jupyter.widget-view+json": {
       "model_id": "5a95f1184448444ca49b6a698c4bb75c",
       "version_major": 2,
       "version_minor": 0
      },
      "text/plain": [
       "Loading Wikidata subclasses:   0%|          | 0/2000000.0 [00:00<?, ?it/s]"
      ]
     },
     "metadata": {},
     "output_type": "display_data"
    },
    {
     "name": "stdout",
     "output_type": "stream",
     "text": [
      "22:06:08 - utilities.lookup_utils - INFO - Loaded subclasses, size = 2489258\n",
      "22:06:08 - utilities.lookup_utils - INFO - Loading qcode_to_idx\n"
     ]
    },
    {
     "data": {
      "application/vnd.jupyter.widget-view+json": {
       "model_id": "e199b81837e94db9a733d69b010b8182",
       "version_major": 2,
       "version_minor": 0
      },
      "text/plain": [
       "Loading qcode_to_idx:   0%|          | 0/6000000 [00:00<?, ?it/s]"
      ]
     },
     "metadata": {},
     "output_type": "display_data"
    },
    {
     "name": "stdout",
     "output_type": "stream",
     "text": [
      "22:06:26 - doc_preprocessing.doc_preprocessor - INFO - Loaded all\n",
      "Reading description embeddings memory map /home/yirenl2/PLM_DC/data-preparator-for-EM/data/refined/wikipedia/wikipedia_model/precomputed_entity_descriptions_emb_wikipedia_6269457-300.np\n"
     ]
    },
    {
     "name": "stderr",
     "output_type": "stream",
     "text": [
      "Some weights of the model checkpoint at roberta-base were not used when initializing RobertaModel: ['roberta.pooler.dense.bias', 'lm_head.dense.weight', 'lm_head.bias', 'lm_head.layer_norm.bias', 'lm_head.decoder.weight', 'lm_head.dense.bias', 'lm_head.layer_norm.weight', 'roberta.pooler.dense.weight']\n",
      "- This IS expected if you are initializing RobertaModel from the checkpoint of a model trained on another task or with another architecture (e.g. initializing a BertForSequenceClassification model from a BertForPreTraining model).\n",
      "- This IS NOT expected if you are initializing RobertaModel from the checkpoint of a model that you expect to be exactly identical (initializing a BertForSequenceClassification model from a BertForSequenceClassification model).\n",
      "Some weights of the model checkpoint at roberta-base were not used when initializing RobertaModel: ['lm_head.dense.weight', 'lm_head.bias', 'lm_head.layer_norm.bias', 'lm_head.decoder.weight', 'lm_head.dense.bias', 'lm_head.layer_norm.weight']\n",
      "- This IS expected if you are initializing RobertaModel from the checkpoint of a model trained on another task or with another architecture (e.g. initializing a BertForSequenceClassification model from a BertForPreTraining model).\n",
      "- This IS NOT expected if you are initializing RobertaModel from the checkpoint of a model that you expect to be exactly identical (initializing a BertForSequenceClassification model from a BertForSequenceClassification model).\n"
     ]
    }
   ],
   "source": [
    "refined = Refined.from_pretrained(model_name='wikipedia_model', \n",
    "                            entity_set=\"wikipedia\",\n",
    "                            data_dir=\"/home/yirenl2/PLM_DC/data-preparator-for-EM/data/refined/wikipedia\", \n",
    "                            download_files=True,\n",
    "                            use_precomputed_descriptions=True,\n",
    "                            device=\"cuda:0\")\n"
   ]
  },
  {
   "cell_type": "code",
   "execution_count": 32,
   "metadata": {},
   "outputs": [
    {
     "name": "stdout",
     "output_type": "stream",
     "text": [
      "Master II\n",
      "(10, 19)\n",
      "MENTION\n",
      "[('Q3314082', 1.0)]\n",
      "Rolex GMT\n",
      "(0, 9)\n",
      "MENTION\n",
      "[('Q382707', 1.0)]\n",
      "<artificial physical object>Rolex GMT</artificial physical object> <type>Master II</type> 116710 LN\n"
     ]
    }
   ],
   "source": [
    "# text = \"ASICS Tiger GEL-Kayano Trainer Evo Origami Pack - Black / Dark Grey\"\n",
    "text = \"Rolex GMT Master II 116710 LN\"\n",
    "spans = refined.process_text(text)\n",
    "\n",
    "for i in range(len(spans)-1, -1, -1):\n",
    "    # wrap the string in the span with the span type\n",
    "    span = spans[i]\n",
    "    spanType = span.pred_types[0][1]\n",
    "    text = text[:span.start] + '<' + spanType + '>' + text[span.start:span.start + span.ln] + '</' + spanType + '>' + text[span.start + span.ln:]\n",
    "    print(\n",
    "        '\\n'.join([\n",
    "            span.text,\n",
    "            str((span.start, span.start + span.ln)),\n",
    "            span.coarse_type,\n",
    "            str(span.candidate_entity_ids),\n",
    "        ])\n",
    "    )\n",
    "#     print(span)\n",
    "print(text)"
   ]
  },
  {
   "cell_type": "code",
   "execution_count": null,
   "metadata": {},
   "outputs": [],
   "source": []
  },
  {
   "cell_type": "code",
   "execution_count": null,
   "metadata": {},
   "outputs": [],
   "source": []
  },
  {
   "cell_type": "code",
   "execution_count": null,
   "metadata": {},
   "outputs": [],
   "source": []
  },
  {
   "cell_type": "code",
   "execution_count": null,
   "metadata": {},
   "outputs": [],
   "source": []
  },
  {
   "cell_type": "code",
   "execution_count": 2,
   "metadata": {},
   "outputs": [],
   "source": [
    "split = 'train'"
   ]
  },
  {
   "cell_type": "code",
   "execution_count": 3,
   "metadata": {},
   "outputs": [],
   "source": [
    "dSpan= pickle.load(open('./%s_refined_outputs.pkl'%split, 'rb'))\n",
    "df = pd.read_csv(\"%s.txt\"%split, sep='\\t', header=None)\n",
    "df.columns = ['r1', 'r2', 'isDup']\n"
   ]
  },
  {
   "cell_type": "code",
   "execution_count": 4,
   "metadata": {},
   "outputs": [
    {
     "data": {
      "text/html": [
       "<div>\n",
       "<style scoped>\n",
       "    .dataframe tbody tr th:only-of-type {\n",
       "        vertical-align: middle;\n",
       "    }\n",
       "\n",
       "    .dataframe tbody tr th {\n",
       "        vertical-align: top;\n",
       "    }\n",
       "\n",
       "    .dataframe thead th {\n",
       "        text-align: right;\n",
       "    }\n",
       "</style>\n",
       "<table border=\"1\" class=\"dataframe\">\n",
       "  <thead>\n",
       "    <tr style=\"text-align: right;\">\n",
       "      <th></th>\n",
       "      <th>r1</th>\n",
       "      <th>r2</th>\n",
       "      <th>isDup</th>\n",
       "    </tr>\n",
       "  </thead>\n",
       "  <tbody>\n",
       "    <tr>\n",
       "      <th>0</th>\n",
       "      <td>COL name VAL lg 24 ' lds4821ww semi integrated...</td>\n",
       "      <td>COL name VAL lg ldf6920bb fully integrated dis...</td>\n",
       "      <td>0</td>\n",
       "    </tr>\n",
       "    <tr>\n",
       "      <th>1</th>\n",
       "      <td>COL name VAL speck seethru clear hard shell ca...</td>\n",
       "      <td>COL name VAL speck products seethru case for a...</td>\n",
       "      <td>0</td>\n",
       "    </tr>\n",
       "    <tr>\n",
       "      <th>2</th>\n",
       "      <td>COL name VAL denon blu-ray disc dvd/cd player ...</td>\n",
       "      <td>COL name VAL denon dvd-2930ci dvd player dvd29...</td>\n",
       "      <td>0</td>\n",
       "    </tr>\n",
       "  </tbody>\n",
       "</table>\n",
       "</div>"
      ],
      "text/plain": [
       "                                                  r1  \\\n",
       "0  COL name VAL lg 24 ' lds4821ww semi integrated...   \n",
       "1  COL name VAL speck seethru clear hard shell ca...   \n",
       "2  COL name VAL denon blu-ray disc dvd/cd player ...   \n",
       "\n",
       "                                                  r2  isDup  \n",
       "0  COL name VAL lg ldf6920bb fully integrated dis...      0  \n",
       "1  COL name VAL speck products seethru case for a...      0  \n",
       "2  COL name VAL denon dvd-2930ci dvd player dvd29...      0  "
      ]
     },
     "execution_count": 4,
     "metadata": {},
     "output_type": "execute_result"
    }
   ],
   "source": [
    "df.head(3)"
   ]
  },
  {
   "cell_type": "code",
   "execution_count": 5,
   "metadata": {},
   "outputs": [
    {
     "data": {
      "text/plain": [
       "\"COL name VAL lg 24 ' lds4821ww semi integrated built in white dishwasher lds4821wh COL description VAL lg 24 ' lds4821ww semi integrated built in white dishwasher lds4821wh xl tall tub cleans up to 16 place settings at once adjustable upper rack lodecibel quiet operation senseclean wash system 4 wash cycles with 3 spray arms multi-level water direction slim direct drive motor semi-integrated electronic control panel white finish COL price VAL  \""
      ]
     },
     "execution_count": 5,
     "metadata": {},
     "output_type": "execute_result"
    }
   ],
   "source": [
    "df.iloc[0]['r1']"
   ]
  },
  {
   "cell_type": "code",
   "execution_count": 6,
   "metadata": {},
   "outputs": [
    {
     "name": "stdout",
     "output_type": "stream",
     "text": [
      "VAL onkyo\n",
      "(9, 18)\n",
      "MENTION\n",
      "('Q4830453', 'business', 0.7604)\n"
     ]
    }
   ],
   "source": [
    "lineNum = 5\n",
    "recId = 'r1'\n",
    "spanNum = 0\n",
    "\n",
    "span = dSpan[lineNum][recId][spanNum]\n",
    "print(\n",
    "    '\\n'.join([\n",
    "        span.text,\n",
    "        str((span.start, span.start + span.ln)),\n",
    "        span.coarse_type,\n",
    "        str(span.pred_types[0]),\n",
    "    ])\n",
    ")\n"
   ]
  },
  {
   "cell_type": "code",
   "execution_count": 7,
   "metadata": {},
   "outputs": [],
   "source": [
    "text = df.iloc[lineNum][recId]\n",
    "\n",
    "for i in range(len(dSpan[lineNum][recId])-1, -1, -1):\n",
    "    # wrap the string in the span with the span type\n",
    "    span = dSpan[lineNum][recId][i]\n",
    "    spanType = span.pred_types[0][1]\n",
    "    text = text[:span.start] + '<' + spanType + '>' + text[span.start:span.start + span.ln] + '</' + spanType + '>' + text[span.start + span.ln:]"
   ]
  },
  {
   "cell_type": "code",
   "execution_count": null,
   "metadata": {},
   "outputs": [],
   "source": []
  },
  {
   "cell_type": "code",
   "execution_count": 8,
   "metadata": {},
   "outputs": [
    {
     "data": {
      "text/plain": [
       "'COL name <business>VAL onkyo</business> thx select2 plus certified 7.1 channel home theater black receiver txsr706b COL description <business>VAL onkyo</business> thx select2 plus certified 7.1 channel home theater black receiver txsr706b 100 watts per channel all discrete circuitry linear optimum gain volume <business>dolby</business> digital plus , <business>dolby</business> truehd and dts-hd decoding hdmi version v1 .3 a repeater dsd processing <business>audyssey</business> dynamic eq accurate speaker distance setting hdmi deep color capable ( 36bit ) analog to hdmi 1080p upconversion <business>faroudja</business> dcd<class>i</class> cinema black finish COL price VAL  '"
      ]
     },
     "execution_count": 8,
     "metadata": {},
     "output_type": "execute_result"
    }
   ],
   "source": [
    "text"
   ]
  },
  {
   "cell_type": "code",
   "execution_count": null,
   "metadata": {},
   "outputs": [],
   "source": []
  },
  {
   "cell_type": "code",
   "execution_count": null,
   "metadata": {},
   "outputs": [],
   "source": []
  },
  {
   "cell_type": "code",
   "execution_count": null,
   "metadata": {},
   "outputs": [],
   "source": []
  }
 ],
 "metadata": {
  "kernelspec": {
   "display_name": "Python [conda env:.conda-DCEM]",
   "language": "python",
   "name": "conda-env-.conda-DCEM-py"
  },
  "language_info": {
   "codemirror_mode": {
    "name": "ipython",
    "version": 3
   },
   "file_extension": ".py",
   "mimetype": "text/x-python",
   "name": "python",
   "nbconvert_exporter": "python",
   "pygments_lexer": "ipython3",
   "version": "3.9.12"
  },
  "vscode": {
   "interpreter": {
    "hash": "d65c671b9484da3428c3608caa19f319c9bc5389ca3d85244273082b73620b37"
   }
  }
 },
 "nbformat": 4,
 "nbformat_minor": 4
}
