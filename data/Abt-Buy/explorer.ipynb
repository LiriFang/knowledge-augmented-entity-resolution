{
 "cells": [
  {
   "cell_type": "code",
   "execution_count": 1,
   "metadata": {},
   "outputs": [
    {
     "name": "stderr",
     "output_type": "stream",
     "text": [
      "/opt/anaconda3/envs/DCEM/lib/python3.7/site-packages/tqdm/auto.py:22: TqdmWarning: IProgress not found. Please update jupyter and ipywidgets. See https://ipywidgets.readthedocs.io/en/stable/user_install.html\n",
      "  from .autonotebook import tqdm as notebook_tqdm\n"
     ]
    }
   ],
   "source": [
    "import pandas as pd\n",
    "import numpy as np\n",
    "\n",
    "import pickle\n",
    "\n",
    "from tqdm import tqdm\n",
    "\n",
    "from refined.processor import Refined"
   ]
  },
  {
   "cell_type": "code",
   "execution_count": null,
   "metadata": {},
   "outputs": [],
   "source": []
  },
  {
   "cell_type": "code",
   "execution_count": 4,
   "metadata": {},
   "outputs": [],
   "source": [
    "split = 'train'"
   ]
  },
  {
   "cell_type": "code",
   "execution_count": 9,
   "metadata": {},
   "outputs": [],
   "source": [
    "dSpan= pickle.load(open('./%s_refined_outputs.pkl'%split, 'rb'))\n",
    "df = pd.read_csv(\"%s.txt\"%split, sep='\\t', header=None)\n",
    "df.columns = ['r1', 'r2', 'isDup']\n"
   ]
  },
  {
   "cell_type": "code",
   "execution_count": 10,
   "metadata": {},
   "outputs": [
    {
     "data": {
      "text/html": [
       "<div>\n",
       "<style scoped>\n",
       "    .dataframe tbody tr th:only-of-type {\n",
       "        vertical-align: middle;\n",
       "    }\n",
       "\n",
       "    .dataframe tbody tr th {\n",
       "        vertical-align: top;\n",
       "    }\n",
       "\n",
       "    .dataframe thead th {\n",
       "        text-align: right;\n",
       "    }\n",
       "</style>\n",
       "<table border=\"1\" class=\"dataframe\">\n",
       "  <thead>\n",
       "    <tr style=\"text-align: right;\">\n",
       "      <th></th>\n",
       "      <th>r1</th>\n",
       "      <th>r2</th>\n",
       "      <th>isDup</th>\n",
       "    </tr>\n",
       "  </thead>\n",
       "  <tbody>\n",
       "    <tr>\n",
       "      <th>0</th>\n",
       "      <td>COL name VAL lg 24 ' lds4821ww semi integrated...</td>\n",
       "      <td>COL name VAL lg ldf6920bb fully integrated dis...</td>\n",
       "      <td>0</td>\n",
       "    </tr>\n",
       "    <tr>\n",
       "      <th>1</th>\n",
       "      <td>COL name VAL speck seethru clear hard shell ca...</td>\n",
       "      <td>COL name VAL speck products seethru case for a...</td>\n",
       "      <td>0</td>\n",
       "    </tr>\n",
       "    <tr>\n",
       "      <th>2</th>\n",
       "      <td>COL name VAL denon blu-ray disc dvd/cd player ...</td>\n",
       "      <td>COL name VAL denon dvd-2930ci dvd player dvd29...</td>\n",
       "      <td>0</td>\n",
       "    </tr>\n",
       "  </tbody>\n",
       "</table>\n",
       "</div>"
      ],
      "text/plain": [
       "                                                  r1  \\\n",
       "0  COL name VAL lg 24 ' lds4821ww semi integrated...   \n",
       "1  COL name VAL speck seethru clear hard shell ca...   \n",
       "2  COL name VAL denon blu-ray disc dvd/cd player ...   \n",
       "\n",
       "                                                  r2  isDup  \n",
       "0  COL name VAL lg ldf6920bb fully integrated dis...      0  \n",
       "1  COL name VAL speck products seethru case for a...      0  \n",
       "2  COL name VAL denon dvd-2930ci dvd player dvd29...      0  "
      ]
     },
     "execution_count": 10,
     "metadata": {},
     "output_type": "execute_result"
    }
   ],
   "source": [
    "df.head(3)"
   ]
  },
  {
   "cell_type": "code",
   "execution_count": 18,
   "metadata": {},
   "outputs": [
    {
     "data": {
      "text/plain": [
       "\"COL name VAL lg 24 ' lds4821ww semi integrated built in white dishwasher lds4821wh COL description VAL lg 24 ' lds4821ww semi integrated built in white dishwasher lds4821wh xl tall tub cleans up to 16 place settings at once adjustable upper rack lodecibel quiet operation senseclean wash system 4 wash cycles with 3 spray arms multi-level water direction slim direct drive motor semi-integrated electronic control panel white finish COL price VAL  \""
      ]
     },
     "execution_count": 18,
     "metadata": {},
     "output_type": "execute_result"
    }
   ],
   "source": [
    "df.iloc[0]['r1']"
   ]
  },
  {
   "cell_type": "code",
   "execution_count": 42,
   "metadata": {},
   "outputs": [
    {
     "name": "stdout",
     "output_type": "stream",
     "text": [
      "VAL onkyo\n",
      "(9, 18)\n",
      "MENTION\n",
      "('Q4830453', 'business', 0.7604)\n"
     ]
    }
   ],
   "source": [
    "lineNum = 5\n",
    "recId = 'r1'\n",
    "spanNum = 0\n",
    "\n",
    "span = dSpan[lineNum][recId][spanNum]\n",
    "print(\n",
    "    '\\n'.join([\n",
    "        span.text,\n",
    "        str((span.start, span.start + span.ln)),\n",
    "        span.coarse_type,\n",
    "        str(span.pred_types[0]),\n",
    "    ])\n",
    ")\n"
   ]
  },
  {
   "cell_type": "code",
   "execution_count": 43,
   "metadata": {},
   "outputs": [],
   "source": [
    "text = df.iloc[lineNum][recId]\n",
    "\n",
    "for i in range(len(dSpan[lineNum][recId])-1, -1, -1):\n",
    "    # wrap the string in the span with the span type\n",
    "    span = dSpan[lineNum][recId][i]\n",
    "    spanType = span.pred_types[0][1]\n",
    "    text = text[:span.start] + '<' + spanType + '>' + text[span.start:span.start + span.ln] + '</' + spanType + '>' + text[span.start + span.ln:]"
   ]
  },
  {
   "cell_type": "code",
   "execution_count": null,
   "metadata": {},
   "outputs": [],
   "source": []
  },
  {
   "cell_type": "code",
   "execution_count": 45,
   "metadata": {},
   "outputs": [
    {
     "data": {
      "text/plain": [
       "'COL name <business>VAL onkyo</business> thx select2 plus certified 7.1 channel home theater black receiver txsr706b COL description <business>VAL onkyo</business> thx select2 plus certified 7.1 channel home theater black receiver txsr706b 100 watts per channel all discrete circuitry linear optimum gain volume <business>dolby</business> digital plus , <business>dolby</business> truehd and dts-hd decoding hdmi version v1 .3 a repeater dsd processing <business>audyssey</business> dynamic eq accurate speaker distance setting hdmi deep color capable ( 36bit ) analog to hdmi 1080p upconversion <business>faroudja</business> dcd<class>i</class> cinema black finish COL price VAL  '"
      ]
     },
     "execution_count": 45,
     "metadata": {},
     "output_type": "execute_result"
    }
   ],
   "source": [
    "text"
   ]
  },
  {
   "cell_type": "code",
   "execution_count": null,
   "metadata": {},
   "outputs": [],
   "source": []
  }
 ],
 "metadata": {
  "kernelspec": {
   "display_name": "Python 3.9.7 ('base')",
   "language": "python",
   "name": "python3"
  },
  "language_info": {
   "codemirror_mode": {
    "name": "ipython",
    "version": 3
   },
   "file_extension": ".py",
   "mimetype": "text/x-python",
   "name": "python",
   "nbconvert_exporter": "python",
   "pygments_lexer": "ipython3",
   "version": "3.9.7"
  },
  "orig_nbformat": 4,
  "vscode": {
   "interpreter": {
    "hash": "d65c671b9484da3428c3608caa19f319c9bc5389ca3d85244273082b73620b37"
   }
  }
 },
 "nbformat": 4,
 "nbformat_minor": 2
}
